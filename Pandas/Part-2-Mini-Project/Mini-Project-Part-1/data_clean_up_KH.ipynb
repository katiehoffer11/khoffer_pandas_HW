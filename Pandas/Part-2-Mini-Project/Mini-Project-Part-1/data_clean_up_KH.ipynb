{
 "cells": [
  {
   "cell_type": "markdown",
   "metadata": {},
   "source": [
    "## Python Mini-Project: Data Clean-Up, Pt. 1\n",
    "\n",
    "Pay close attention to the prompts to help guide you through this task."
   ]
  },
  {
   "cell_type": "code",
   "execution_count": 1,
   "metadata": {},
   "outputs": [],
   "source": [
    "# Dependencies\n",
    "import pandas as pd"
   ]
  },
  {
   "cell_type": "code",
   "execution_count": 2,
   "metadata": {},
   "outputs": [],
   "source": [
    "# load CSV\n",
    "path = \"Resources/2016-FCC-New-Coders-Survey-Data.csv\""
   ]
  },
  {
   "cell_type": "code",
   "execution_count": 3,
   "metadata": {},
   "outputs": [],
   "source": [
    "# Read with pandas\n",
    "new_coders_pd = pd.read_csv(path, dtype='object')"
   ]
  },
  {
   "cell_type": "code",
   "execution_count": 4,
   "metadata": {},
   "outputs": [
    {
     "data": {
      "text/plain": [
       "Index(['Age', 'AttendedBootcamp', 'BootcampFinish', 'BootcampFullJobAfter',\n",
       "       'BootcampLoanYesNo', 'BootcampMonthsAgo', 'BootcampName',\n",
       "       'BootcampPostSalary', 'BootcampRecommend', 'ChildrenNumber',\n",
       "       ...\n",
       "       'ResourceSoloLearn', 'ResourceStackOverflow', 'ResourceTreehouse',\n",
       "       'ResourceUdacity', 'ResourceUdemy', 'ResourceW3Schools',\n",
       "       'ResourceYouTube', 'SchoolDegree', 'SchoolMajor', 'StudentDebtOwe'],\n",
       "      dtype='object', length=113)"
      ]
     },
     "execution_count": 4,
     "metadata": {},
     "output_type": "execute_result"
    }
   ],
   "source": [
    "# Inspect all columns\n",
    "new_coders_pd.columns"
   ]
  },
  {
   "cell_type": "code",
   "execution_count": 5,
   "metadata": {
    "scrolled": true
   },
   "outputs": [],
   "source": [
    "# Extract only columns 0, 1, 2, 3, 4, 7, 8, 9, 10,11, 29, 30, 32, 36, 37, 45, 48, 56, 110, 111\n",
    "# Use iloc to accomplish this (remember that you need to take the position of the rows and columns into account)\n",
    "new_coders_pd = new_coders_pd.iloc[:,[0, 1, 2, 3, 4, 7, 8, 9, 10,11, 29, 30, 32, 36, 37, 45, 48, 56, 110, 111]]"
   ]
  },
  {
   "cell_type": "code",
   "execution_count": 6,
   "metadata": {
    "scrolled": false
   },
   "outputs": [
    {
     "data": {
      "text/html": [
       "<div>\n",
       "<style scoped>\n",
       "    .dataframe tbody tr th:only-of-type {\n",
       "        vertical-align: middle;\n",
       "    }\n",
       "\n",
       "    .dataframe tbody tr th {\n",
       "        vertical-align: top;\n",
       "    }\n",
       "\n",
       "    .dataframe thead th {\n",
       "        text-align: right;\n",
       "    }\n",
       "</style>\n",
       "<table border=\"1\" class=\"dataframe\">\n",
       "  <thead>\n",
       "    <tr style=\"text-align: right;\">\n",
       "      <th></th>\n",
       "      <th>Age</th>\n",
       "      <th>AttendedBootcamp</th>\n",
       "      <th>BootcampFinish</th>\n",
       "      <th>BootcampFullJobAfter</th>\n",
       "      <th>BootcampLoanYesNo</th>\n",
       "      <th>BootcampPostSalary</th>\n",
       "      <th>BootcampRecommend</th>\n",
       "      <th>ChildrenNumber</th>\n",
       "      <th>CityPopulation</th>\n",
       "      <th>CodeEventBootcamp</th>\n",
       "      <th>CountryLive</th>\n",
       "      <th>EmploymentField</th>\n",
       "      <th>EmploymentStatus</th>\n",
       "      <th>Gender</th>\n",
       "      <th>HasChildren</th>\n",
       "      <th>HoursLearning</th>\n",
       "      <th>Income</th>\n",
       "      <th>JobRoleInterest</th>\n",
       "      <th>SchoolDegree</th>\n",
       "      <th>SchoolMajor</th>\n",
       "    </tr>\n",
       "  </thead>\n",
       "  <tbody>\n",
       "    <tr>\n",
       "      <td>0</td>\n",
       "      <td>28</td>\n",
       "      <td>No</td>\n",
       "      <td>NaN</td>\n",
       "      <td>NaN</td>\n",
       "      <td>NaN</td>\n",
       "      <td>NaN</td>\n",
       "      <td>NaN</td>\n",
       "      <td>NaN</td>\n",
       "      <td>between 100,000 and 1 million</td>\n",
       "      <td>NaN</td>\n",
       "      <td>United States of America</td>\n",
       "      <td>office and administrative support</td>\n",
       "      <td>Employed for wages</td>\n",
       "      <td>male</td>\n",
       "      <td>No</td>\n",
       "      <td>30</td>\n",
       "      <td>32000</td>\n",
       "      <td>NaN</td>\n",
       "      <td>some college credit, no degree</td>\n",
       "      <td>NaN</td>\n",
       "    </tr>\n",
       "    <tr>\n",
       "      <td>1</td>\n",
       "      <td>22</td>\n",
       "      <td>No</td>\n",
       "      <td>NaN</td>\n",
       "      <td>NaN</td>\n",
       "      <td>NaN</td>\n",
       "      <td>NaN</td>\n",
       "      <td>NaN</td>\n",
       "      <td>NaN</td>\n",
       "      <td>between 100,000 and 1 million</td>\n",
       "      <td>NaN</td>\n",
       "      <td>United States of America</td>\n",
       "      <td>food and beverage</td>\n",
       "      <td>Employed for wages</td>\n",
       "      <td>male</td>\n",
       "      <td>NaN</td>\n",
       "      <td>30</td>\n",
       "      <td>15000</td>\n",
       "      <td>Front-End Web Developer</td>\n",
       "      <td>some college credit, no degree</td>\n",
       "      <td>NaN</td>\n",
       "    </tr>\n",
       "    <tr>\n",
       "      <td>2</td>\n",
       "      <td>19</td>\n",
       "      <td>No</td>\n",
       "      <td>NaN</td>\n",
       "      <td>NaN</td>\n",
       "      <td>NaN</td>\n",
       "      <td>NaN</td>\n",
       "      <td>NaN</td>\n",
       "      <td>NaN</td>\n",
       "      <td>more than 1 million</td>\n",
       "      <td>NaN</td>\n",
       "      <td>United States of America</td>\n",
       "      <td>finance</td>\n",
       "      <td>Employed for wages</td>\n",
       "      <td>male</td>\n",
       "      <td>NaN</td>\n",
       "      <td>20</td>\n",
       "      <td>48000</td>\n",
       "      <td>NaN</td>\n",
       "      <td>high school diploma or equivalent (GED)</td>\n",
       "      <td>NaN</td>\n",
       "    </tr>\n",
       "    <tr>\n",
       "      <td>3</td>\n",
       "      <td>26</td>\n",
       "      <td>No</td>\n",
       "      <td>NaN</td>\n",
       "      <td>NaN</td>\n",
       "      <td>NaN</td>\n",
       "      <td>NaN</td>\n",
       "      <td>NaN</td>\n",
       "      <td>NaN</td>\n",
       "      <td>more than 1 million</td>\n",
       "      <td>NaN</td>\n",
       "      <td>United States of America</td>\n",
       "      <td>arts, entertainment, sports, or media</td>\n",
       "      <td>Employed for wages</td>\n",
       "      <td>female</td>\n",
       "      <td>NaN</td>\n",
       "      <td>20</td>\n",
       "      <td>43000</td>\n",
       "      <td>Front-End Web Developer</td>\n",
       "      <td>bachelor's degree</td>\n",
       "      <td>Cinematography And Film</td>\n",
       "    </tr>\n",
       "    <tr>\n",
       "      <td>4</td>\n",
       "      <td>20</td>\n",
       "      <td>No</td>\n",
       "      <td>NaN</td>\n",
       "      <td>NaN</td>\n",
       "      <td>NaN</td>\n",
       "      <td>NaN</td>\n",
       "      <td>NaN</td>\n",
       "      <td>NaN</td>\n",
       "      <td>between 100,000 and 1 million</td>\n",
       "      <td>NaN</td>\n",
       "      <td>United States of America</td>\n",
       "      <td>education</td>\n",
       "      <td>Employed for wages</td>\n",
       "      <td>female</td>\n",
       "      <td>NaN</td>\n",
       "      <td>25</td>\n",
       "      <td>6000</td>\n",
       "      <td>Full-Stack Web Developer</td>\n",
       "      <td>some college credit, no degree</td>\n",
       "      <td>NaN</td>\n",
       "    </tr>\n",
       "  </tbody>\n",
       "</table>\n",
       "</div>"
      ],
      "text/plain": [
       "  Age AttendedBootcamp BootcampFinish BootcampFullJobAfter BootcampLoanYesNo  \\\n",
       "0  28               No            NaN                  NaN               NaN   \n",
       "1  22               No            NaN                  NaN               NaN   \n",
       "2  19               No            NaN                  NaN               NaN   \n",
       "3  26               No            NaN                  NaN               NaN   \n",
       "4  20               No            NaN                  NaN               NaN   \n",
       "\n",
       "  BootcampPostSalary BootcampRecommend ChildrenNumber  \\\n",
       "0                NaN               NaN            NaN   \n",
       "1                NaN               NaN            NaN   \n",
       "2                NaN               NaN            NaN   \n",
       "3                NaN               NaN            NaN   \n",
       "4                NaN               NaN            NaN   \n",
       "\n",
       "                  CityPopulation CodeEventBootcamp               CountryLive  \\\n",
       "0  between 100,000 and 1 million               NaN  United States of America   \n",
       "1  between 100,000 and 1 million               NaN  United States of America   \n",
       "2            more than 1 million               NaN  United States of America   \n",
       "3            more than 1 million               NaN  United States of America   \n",
       "4  between 100,000 and 1 million               NaN  United States of America   \n",
       "\n",
       "                         EmploymentField    EmploymentStatus  Gender  \\\n",
       "0      office and administrative support  Employed for wages    male   \n",
       "1                      food and beverage  Employed for wages    male   \n",
       "2                                finance  Employed for wages    male   \n",
       "3  arts, entertainment, sports, or media  Employed for wages  female   \n",
       "4                              education  Employed for wages  female   \n",
       "\n",
       "  HasChildren HoursLearning Income            JobRoleInterest  \\\n",
       "0          No            30  32000                        NaN   \n",
       "1         NaN            30  15000    Front-End Web Developer   \n",
       "2         NaN            20  48000                        NaN   \n",
       "3         NaN            20  43000    Front-End Web Developer   \n",
       "4         NaN            25   6000   Full-Stack Web Developer   \n",
       "\n",
       "                              SchoolDegree              SchoolMajor  \n",
       "0           some college credit, no degree                      NaN  \n",
       "1           some college credit, no degree                      NaN  \n",
       "2  high school diploma or equivalent (GED)                      NaN  \n",
       "3                        bachelor's degree  Cinematography And Film  \n",
       "4           some college credit, no degree                      NaN  "
      ]
     },
     "execution_count": 6,
     "metadata": {},
     "output_type": "execute_result"
    }
   ],
   "source": [
    "# Change \"0\" to \"No\" and \"1\" to \"Yes\" in response columns\n",
    "fixes = {\n",
    "    '0':'No',\n",
    "    '1':'Yes'\n",
    "}\n",
    "\n",
    "new_coders_pd = new_coders_pd.replace(fixes)\n",
    "new_coders_pd.head()"
   ]
  },
  {
   "cell_type": "code",
   "execution_count": 7,
   "metadata": {},
   "outputs": [
    {
     "data": {
      "text/plain": [
       "15620"
      ]
     },
     "execution_count": 7,
     "metadata": {},
     "output_type": "execute_result"
    }
   ],
   "source": [
    "# Calculate total number of respondents in survey\n",
    "Number_of_respondents = len(new_coders_pd[\"AttendedBootcamp\"])\n",
    "Number_of_respondents"
   ]
  },
  {
   "cell_type": "code",
   "execution_count": 8,
   "metadata": {},
   "outputs": [
    {
     "data": {
      "text/html": [
       "<div>\n",
       "<style scoped>\n",
       "    .dataframe tbody tr th:only-of-type {\n",
       "        vertical-align: middle;\n",
       "    }\n",
       "\n",
       "    .dataframe tbody tr th {\n",
       "        vertical-align: top;\n",
       "    }\n",
       "\n",
       "    .dataframe thead th {\n",
       "        text-align: right;\n",
       "    }\n",
       "</style>\n",
       "<table border=\"1\" class=\"dataframe\">\n",
       "  <thead>\n",
       "    <tr style=\"text-align: right;\">\n",
       "      <th></th>\n",
       "      <th>Age</th>\n",
       "      <th>AttendedBootcamp</th>\n",
       "      <th>BootcampFinish</th>\n",
       "      <th>BootcampFullJobAfter</th>\n",
       "      <th>BootcampLoanYesNo</th>\n",
       "      <th>BootcampPostSalary</th>\n",
       "      <th>BootcampRecommend</th>\n",
       "      <th>ChildrenNumber</th>\n",
       "      <th>CityPopulation</th>\n",
       "      <th>CodeEventBootcamp</th>\n",
       "      <th>CountryLive</th>\n",
       "      <th>EmploymentField</th>\n",
       "      <th>EmploymentStatus</th>\n",
       "      <th>Gender</th>\n",
       "      <th>HasChildren</th>\n",
       "      <th>HoursLearning</th>\n",
       "      <th>Income</th>\n",
       "      <th>JobRoleInterest</th>\n",
       "      <th>SchoolDegree</th>\n",
       "      <th>SchoolMajor</th>\n",
       "    </tr>\n",
       "  </thead>\n",
       "  <tbody>\n",
       "    <tr>\n",
       "      <td>93</td>\n",
       "      <td>32</td>\n",
       "      <td>Yes</td>\n",
       "      <td>Yes</td>\n",
       "      <td>No</td>\n",
       "      <td>No</td>\n",
       "      <td>NaN</td>\n",
       "      <td>No</td>\n",
       "      <td>NaN</td>\n",
       "      <td>between 100,000 and 1 million</td>\n",
       "      <td>NaN</td>\n",
       "      <td>United States of America</td>\n",
       "      <td>arts, entertainment, sports, or media</td>\n",
       "      <td>Self-employed business owner</td>\n",
       "      <td>male</td>\n",
       "      <td>NaN</td>\n",
       "      <td>20</td>\n",
       "      <td>67000</td>\n",
       "      <td>NaN</td>\n",
       "      <td>bachelor's degree</td>\n",
       "      <td>Biology</td>\n",
       "    </tr>\n",
       "    <tr>\n",
       "      <td>97</td>\n",
       "      <td>26</td>\n",
       "      <td>Yes</td>\n",
       "      <td>Yes</td>\n",
       "      <td>Yes</td>\n",
       "      <td>No</td>\n",
       "      <td>45000</td>\n",
       "      <td>No</td>\n",
       "      <td>NaN</td>\n",
       "      <td>more than 1 million</td>\n",
       "      <td>NaN</td>\n",
       "      <td>United States of America</td>\n",
       "      <td>software development</td>\n",
       "      <td>Employed for wages</td>\n",
       "      <td>male</td>\n",
       "      <td>No</td>\n",
       "      <td>10</td>\n",
       "      <td>40000</td>\n",
       "      <td>NaN</td>\n",
       "      <td>master's degree (non-professional)</td>\n",
       "      <td>Music</td>\n",
       "    </tr>\n",
       "    <tr>\n",
       "      <td>130</td>\n",
       "      <td>41</td>\n",
       "      <td>Yes</td>\n",
       "      <td>Yes</td>\n",
       "      <td>Yes</td>\n",
       "      <td>Yes</td>\n",
       "      <td>75000</td>\n",
       "      <td>Yes</td>\n",
       "      <td>3</td>\n",
       "      <td>less than 100,000</td>\n",
       "      <td>NaN</td>\n",
       "      <td>United States of America</td>\n",
       "      <td>software development</td>\n",
       "      <td>Employed for wages</td>\n",
       "      <td>male</td>\n",
       "      <td>Yes</td>\n",
       "      <td>30</td>\n",
       "      <td>75000</td>\n",
       "      <td>NaN</td>\n",
       "      <td>some college credit, no degree</td>\n",
       "      <td>NaN</td>\n",
       "    </tr>\n",
       "    <tr>\n",
       "      <td>159</td>\n",
       "      <td>26</td>\n",
       "      <td>Yes</td>\n",
       "      <td>Yes</td>\n",
       "      <td>No</td>\n",
       "      <td>No</td>\n",
       "      <td>NaN</td>\n",
       "      <td>No</td>\n",
       "      <td>NaN</td>\n",
       "      <td>between 100,000 and 1 million</td>\n",
       "      <td>NaN</td>\n",
       "      <td>United States of America</td>\n",
       "      <td>NaN</td>\n",
       "      <td>Not working and not looking for work</td>\n",
       "      <td>female</td>\n",
       "      <td>NaN</td>\n",
       "      <td>30</td>\n",
       "      <td>NaN</td>\n",
       "      <td>Full-Stack Web Developer</td>\n",
       "      <td>some college credit, no degree</td>\n",
       "      <td>NaN</td>\n",
       "    </tr>\n",
       "    <tr>\n",
       "      <td>188</td>\n",
       "      <td>24</td>\n",
       "      <td>Yes</td>\n",
       "      <td>No</td>\n",
       "      <td>NaN</td>\n",
       "      <td>Yes</td>\n",
       "      <td>NaN</td>\n",
       "      <td>No</td>\n",
       "      <td>NaN</td>\n",
       "      <td>between 100,000 and 1 million</td>\n",
       "      <td>NaN</td>\n",
       "      <td>Canada</td>\n",
       "      <td>NaN</td>\n",
       "      <td>Not working but looking for work</td>\n",
       "      <td>female</td>\n",
       "      <td>NaN</td>\n",
       "      <td>60</td>\n",
       "      <td>NaN</td>\n",
       "      <td>NaN</td>\n",
       "      <td>some college credit, no degree</td>\n",
       "      <td>NaN</td>\n",
       "    </tr>\n",
       "  </tbody>\n",
       "</table>\n",
       "</div>"
      ],
      "text/plain": [
       "    Age AttendedBootcamp BootcampFinish BootcampFullJobAfter  \\\n",
       "93   32              Yes            Yes                   No   \n",
       "97   26              Yes            Yes                  Yes   \n",
       "130  41              Yes            Yes                  Yes   \n",
       "159  26              Yes            Yes                   No   \n",
       "188  24              Yes             No                  NaN   \n",
       "\n",
       "    BootcampLoanYesNo BootcampPostSalary BootcampRecommend ChildrenNumber  \\\n",
       "93                 No                NaN                No            NaN   \n",
       "97                 No              45000                No            NaN   \n",
       "130               Yes              75000               Yes              3   \n",
       "159                No                NaN                No            NaN   \n",
       "188               Yes                NaN                No            NaN   \n",
       "\n",
       "                    CityPopulation CodeEventBootcamp  \\\n",
       "93   between 100,000 and 1 million               NaN   \n",
       "97             more than 1 million               NaN   \n",
       "130              less than 100,000               NaN   \n",
       "159  between 100,000 and 1 million               NaN   \n",
       "188  between 100,000 and 1 million               NaN   \n",
       "\n",
       "                  CountryLive                        EmploymentField  \\\n",
       "93   United States of America  arts, entertainment, sports, or media   \n",
       "97   United States of America                   software development   \n",
       "130  United States of America                   software development   \n",
       "159  United States of America                                    NaN   \n",
       "188                    Canada                                    NaN   \n",
       "\n",
       "                         EmploymentStatus  Gender HasChildren HoursLearning  \\\n",
       "93           Self-employed business owner    male         NaN            20   \n",
       "97                     Employed for wages    male          No            10   \n",
       "130                    Employed for wages    male         Yes            30   \n",
       "159  Not working and not looking for work  female         NaN            30   \n",
       "188      Not working but looking for work  female         NaN            60   \n",
       "\n",
       "    Income           JobRoleInterest                        SchoolDegree  \\\n",
       "93   67000                       NaN                   bachelor's degree   \n",
       "97   40000                       NaN  master's degree (non-professional)   \n",
       "130  75000                       NaN      some college credit, no degree   \n",
       "159    NaN  Full-Stack Web Developer      some college credit, no degree   \n",
       "188    NaN                       NaN      some college credit, no degree   \n",
       "\n",
       "    SchoolMajor  \n",
       "93      Biology  \n",
       "97        Music  \n",
       "130         NaN  \n",
       "159         NaN  \n",
       "188         NaN  "
      ]
     },
     "execution_count": 8,
     "metadata": {},
     "output_type": "execute_result"
    }
   ],
   "source": [
    "# Extract rows corresponding only to people who attended a bootcamp\n",
    "attended_bootcamp = new_coders_pd.loc[new_coders_pd[\"AttendedBootcamp\"] == \"Yes\", :]\n",
    "attended_bootcamp.head()"
   ]
  },
  {
   "cell_type": "code",
   "execution_count": 9,
   "metadata": {},
   "outputs": [
    {
     "name": "stderr",
     "output_type": "stream",
     "text": [
      "C:\\Users\\katie\\Anaconda3\\lib\\site-packages\\ipykernel_launcher.py:2: SettingWithCopyWarning: \n",
      "A value is trying to be set on a copy of a slice from a DataFrame.\n",
      "Try using .loc[row_indexer,col_indexer] = value instead\n",
      "\n",
      "See the caveats in the documentation: http://pandas.pydata.org/pandas-docs/stable/user_guide/indexing.html#returning-a-view-versus-a-copy\n",
      "  \n"
     ]
    },
    {
     "data": {
      "text/plain": [
       "'31.07'"
      ]
     },
     "execution_count": 9,
     "metadata": {},
     "output_type": "execute_result"
    }
   ],
   "source": [
    "# Calculate average age of attendees\n",
    "attended_bootcamp['Age'] = pd.to_numeric(attended_bootcamp['Age'])\n",
    "avg_age = attended_bootcamp[\"Age\"].mean()\n",
    "avg_age = '{:,.2f}'.format(avg_age)\n",
    "avg_age"
   ]
  },
  {
   "cell_type": "code",
   "execution_count": 10,
   "metadata": {},
   "outputs": [
    {
     "data": {
      "text/plain": [
       "953"
      ]
     },
     "execution_count": 10,
     "metadata": {},
     "output_type": "execute_result"
    }
   ],
   "source": [
    "# Calculate how many people attended a bootcamp\n",
    "attended_count = attended_bootcamp[\"AttendedBootcamp\"].count()\n",
    "attended_count"
   ]
  },
  {
   "cell_type": "code",
   "execution_count": 11,
   "metadata": {},
   "outputs": [
    {
     "data": {
      "text/plain": [
       "bachelor's degree                           462\n",
       "some college credit, no degree              116\n",
       "master's degree (non-professional)           96\n",
       "professional degree (MBA, MD, JD, etc.)      39\n",
       "high school diploma or equivalent (GED)      38\n",
       "associate's degree                           32\n",
       "trade, technical, or vocational training     24\n",
       "some high school                             10\n",
       "Ph.D.                                         8\n",
       "no high school (secondary school)             7\n",
       "Name: SchoolDegree, dtype: int64"
      ]
     },
     "execution_count": 11,
     "metadata": {},
     "output_type": "execute_result"
    }
   ],
   "source": [
    "# Calculate how many attendees hold degrees\n",
    "attended_bootcamp[\"SchoolDegree\"].value_counts()\n"
   ]
  },
  {
   "cell_type": "code",
   "execution_count": 12,
   "metadata": {},
   "outputs": [
    {
     "data": {
      "text/plain": [
       "637"
      ]
     },
     "execution_count": 12,
     "metadata": {},
     "output_type": "execute_result"
    }
   ],
   "source": [
    "# Count the number of records where the person is a degree holder\n",
    "degree_holder = attended_bootcamp.loc[(attended_bootcamp[\"SchoolDegree\"] == \"bachelor's degree\") | \n",
    "                                      (attended_bootcamp[\"SchoolDegree\"] == \"master's degree (non-professional)\") |\n",
    "                                      (attended_bootcamp[\"SchoolDegree\"] == \"professional degree (MBA, MD, JD, etc.)\") |\n",
    "                                      (attended_bootcamp[\"SchoolDegree\"] == \"associate's degree\") |\n",
    "                                      (attended_bootcamp[\"SchoolDegree\"] == \"Ph.D.\") ,:]\n",
    "degree_holder_count = degree_holder[\"SchoolDegree\"].count()\n",
    "degree_holder[\"SchoolDegree\"].count()"
   ]
  },
  {
   "cell_type": "code",
   "execution_count": 13,
   "metadata": {
    "scrolled": true
   },
   "outputs": [
    {
     "name": "stderr",
     "output_type": "stream",
     "text": [
      "C:\\Users\\katie\\Anaconda3\\lib\\site-packages\\ipykernel_launcher.py:3: SettingWithCopyWarning: \n",
      "A value is trying to be set on a copy of a slice from a DataFrame.\n",
      "Try using .loc[row_indexer,col_indexer] = value instead\n",
      "\n",
      "See the caveats in the documentation: http://pandas.pydata.org/pandas-docs/stable/user_guide/indexing.html#returning-a-view-versus-a-copy\n",
      "  This is separate from the ipykernel package so we can avoid doing imports until\n"
     ]
    }
   ],
   "source": [
    "# Count number of attendees who self-identify as male; female; or are of non-binary gender identification\n",
    "attended_bootcamp[\"Gender\"] = attended_bootcamp[\"Gender\"].replace(\n",
    "    {'genderqueer': 'Non-Binary', 'trans': 'Non-Binary', 'agender': 'Non-Binary'})\n",
    "\n",
    "total_gender = attended_bootcamp[\"Gender\"].count()\n",
    "total_gender\n",
    "male = attended_bootcamp[\"Gender\"].value_counts()[\"male\"]\n",
    "female = attended_bootcamp[\"Gender\"].value_counts()[\"female\"]\n",
    "nonbinary = attended_bootcamp[\"Gender\"].value_counts()[\"Non-Binary\"]\n",
    "\n",
    "# Calculate percentage of respondents belonging to each gender\n",
    "percent_male_attendees = (male/total_gender)*100\n",
    "percent_male_attendees = '{:,.2f}%'.format(percent_male_attendees)\n",
    "\n",
    "percent_female_attendees = (female/total_gender)*100\n",
    "percent_female_attendees = '{:,.2f}%'.format(percent_female_attendees)\n",
    "\n",
    "percent_nonbinary_attendees = (nonbinary/total_gender)*100\n",
    "percent_nonbinary_attendees = '{:,.2f}%'.format(percent_nonbinary_attendees)"
   ]
  },
  {
   "cell_type": "code",
   "execution_count": 14,
   "metadata": {},
   "outputs": [
    {
     "data": {
      "text/plain": [
       "'6.10%'"
      ]
     },
     "execution_count": 14,
     "metadata": {},
     "output_type": "execute_result"
    }
   ],
   "source": [
    "# Calculate percentage of respondents who attended a bootcamp\n",
    "percent_attended = (attended_count/Number_of_respondents)*100\n",
    "percent_attended = '{:,.2f}%'.format(percent_attended)\n",
    "percent_attended"
   ]
  },
  {
   "cell_type": "code",
   "execution_count": 15,
   "metadata": {},
   "outputs": [
    {
     "data": {
      "text/plain": [
       "'66.84%'"
      ]
     },
     "execution_count": 15,
     "metadata": {},
     "output_type": "execute_result"
    }
   ],
   "source": [
    "# Calculate percentage of attendees with a college degree\n",
    "percent_of_degree_holder = (degree_holder_count/attended_count)*100\n",
    "percent_of_degree_holder = '{:,.2f}%'.format(percent_of_degree_holder)\n",
    "percent_of_degree_holder"
   ]
  },
  {
   "cell_type": "code",
   "execution_count": 16,
   "metadata": {
    "scrolled": true
   },
   "outputs": [
    {
     "name": "stderr",
     "output_type": "stream",
     "text": [
      "C:\\Users\\katie\\Anaconda3\\lib\\site-packages\\ipykernel_launcher.py:2: SettingWithCopyWarning: \n",
      "A value is trying to be set on a copy of a slice from a DataFrame.\n",
      "Try using .loc[row_indexer,col_indexer] = value instead\n",
      "\n",
      "See the caveats in the documentation: http://pandas.pydata.org/pandas-docs/stable/user_guide/indexing.html#returning-a-view-versus-a-copy\n",
      "  \n"
     ]
    },
    {
     "data": {
      "text/plain": [
       "'$63,741'"
      ]
     },
     "execution_count": 16,
     "metadata": {},
     "output_type": "execute_result"
    }
   ],
   "source": [
    "# Calculate average post-bootcamp salary\n",
    "attended_bootcamp['BootcampPostSalary'] = pd.to_numeric(attended_bootcamp['BootcampPostSalary'])\n",
    "avg_post_salary = attended_bootcamp['BootcampPostSalary'].mean()\n",
    "avg_post_salary = '${:,.0f}'.format(avg_post_salary)\n",
    "avg_post_salary"
   ]
  },
  {
   "cell_type": "code",
   "execution_count": 17,
   "metadata": {},
   "outputs": [
    {
     "data": {
      "text/html": [
       "<div>\n",
       "<style scoped>\n",
       "    .dataframe tbody tr th:only-of-type {\n",
       "        vertical-align: middle;\n",
       "    }\n",
       "\n",
       "    .dataframe tbody tr th {\n",
       "        vertical-align: top;\n",
       "    }\n",
       "\n",
       "    .dataframe thead th {\n",
       "        text-align: right;\n",
       "    }\n",
       "</style>\n",
       "<table border=\"1\" class=\"dataframe\">\n",
       "  <thead>\n",
       "    <tr style=\"text-align: right;\">\n",
       "      <th></th>\n",
       "      <th>Total Surveyed</th>\n",
       "      <th>Total Bootcamp attendees</th>\n",
       "      <th>% attended bootcamp</th>\n",
       "      <th>Avg. Age</th>\n",
       "      <th>Has a degree</th>\n",
       "      <th>% Male</th>\n",
       "      <th>% Female</th>\n",
       "      <th>% Non Gender Specific</th>\n",
       "      <th>Average Post Bootcamp Salary</th>\n",
       "    </tr>\n",
       "  </thead>\n",
       "  <tbody>\n",
       "    <tr>\n",
       "      <td>0</td>\n",
       "      <td>15620</td>\n",
       "      <td>953</td>\n",
       "      <td>6.10%</td>\n",
       "      <td>31.07</td>\n",
       "      <td>66.84%</td>\n",
       "      <td>59.54%</td>\n",
       "      <td>39.14%</td>\n",
       "      <td>1.32%</td>\n",
       "      <td>$63,741</td>\n",
       "    </tr>\n",
       "  </tbody>\n",
       "</table>\n",
       "</div>"
      ],
      "text/plain": [
       "   Total Surveyed  Total Bootcamp attendees % attended bootcamp Avg. Age  \\\n",
       "0           15620                       953               6.10%    31.07   \n",
       "\n",
       "  Has a degree  % Male % Female % Non Gender Specific  \\\n",
       "0       66.84%  59.54%   39.14%                 1.32%   \n",
       "\n",
       "  Average Post Bootcamp Salary  \n",
       "0                      $63,741  "
      ]
     },
     "execution_count": 17,
     "metadata": {},
     "output_type": "execute_result"
    }
   ],
   "source": [
    "# Create a new table consolidating above calculations\n",
    "new_df = pd.DataFrame({\"Total Surveyed\":[Number_of_respondents],\n",
    "                     \"Total Bootcamp attendees\":[attended_count],\n",
    "                     \"% attended bootcamp\":[percent_attended],\n",
    "                     \"Avg. Age\":[avg_age],\n",
    "                     \"Has a degree\":[percent_of_degree_holder],\n",
    "                     \"% Male\":[percent_male_attendees],\n",
    "                     \"% Female\":[percent_female_attendees],\n",
    "                     \"% Non Gender Specific\":[percent_nonbinary_attendees],\n",
    "                     \"Average Post Bootcamp Salary\":[avg_post_salary]})\n",
    "\n",
    "new_df"
   ]
  },
  {
   "cell_type": "code",
   "execution_count": 18,
   "metadata": {},
   "outputs": [],
   "source": [
    "# Export to Excel\n",
    "# Use df.to_excel to export to excel. Don't include the indexes\n",
    "new_df.to_excel(\"output/Bootcamp1_KH.xlsx\", index=False)\n"
   ]
  },
  {
   "cell_type": "code",
   "execution_count": null,
   "metadata": {},
   "outputs": [],
   "source": []
  }
 ],
 "metadata": {
  "anaconda-cloud": {},
  "kernelspec": {
   "display_name": "Python 3",
   "language": "python",
   "name": "python3"
  },
  "language_info": {
   "codemirror_mode": {
    "name": "ipython",
    "version": 3
   },
   "file_extension": ".py",
   "mimetype": "text/x-python",
   "name": "python",
   "nbconvert_exporter": "python",
   "pygments_lexer": "ipython3",
   "version": "3.7.4"
  }
 },
 "nbformat": 4,
 "nbformat_minor": 2
}
